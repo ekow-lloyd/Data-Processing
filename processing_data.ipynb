{
 "cells": [
  {
   "cell_type": "code",
   "execution_count": 13,
   "metadata": {},
   "outputs": [],
   "source": [
    "import csv\n",
    "import json\n",
    "from datetime import date, datetime\n",
    "\n",
    "CUSTOMERS_CSV = 'acw_user_data (1).csv'"
   ]
  },
  {
   "cell_type": "code",
   "execution_count": 5,
   "metadata": {},
   "outputs": [
    {
     "name": "stdout",
     "output_type": "stream",
     "text": [
      "Address Street\n",
      "Address City\n",
      "Address Postcode\n",
      "Age (Years)\n",
      "Distance Commuted to Work (miles)\n",
      "Employer Company\n",
      "Credit Card Start Date\n",
      "Credit Card Expiry Date\n",
      "Credit Card Number\n",
      "Credit Card CVV\n",
      "Dependants\n",
      "First Name\n",
      "Bank IBAN\n",
      "Last Name\n",
      "Marital Status\n",
      "Yearly Pension (Â£)\n",
      "Retired\n",
      "Yearly Salary (Â£)\n",
      "Sex\n",
      "Vehicle Make\n",
      "Vehicle Model\n",
      "Vehicle Year\n",
      "Vehicle Type\n"
     ]
    }
   ],
   "source": [
    "with open(CUSTOMERS_CSV) as f:\n",
    "    reader = csv.DictReader(f)\n",
    "    for i in reader.fieldnames:\n",
    "        print(i)"
   ]
  },
  {
   "cell_type": "markdown",
   "metadata": {},
   "source": [
    "- Name:\n",
    "  - First Name: `str`\n",
    "  - Last Name: `str`\n",
    "- Age (Years): `int`\n",
    "- Sex: `str` (Male/Female)\n",
    "- Marital Status: ``str`` (single/married or civil partner/divorced/widowed)\n",
    "- Dependants: `int` & '' -> 0\n",
    "- Address:\n",
    "  - Address Street: `str`\n",
    "  - Address City: `str`\n",
    "  - Address Postcode: `str`\n",
    "- Credit Card:\n",
    "  - Credit Card Start Date `date` %m/%y\n",
    "  - Credit Card Expiry Date `date` %m/%y\n",
    "  - Credit Card Number `int`\n",
    "  - Credit Card CVV `int`\n",
    "  - Bank IBAN `str`\n",
    "- Employment: \n",
    "  - Retired: `bool` (true/false)\n",
    "    - Yearly Pension (Â£) `int` pounds \n",
    "  - Employer Company `str` & 'N/A' -> `None`(null)\n",
    "  - Yearly Salary (Â£) `int` pounds\n",
    "  - Distance Commuted to Work (miles) `float`\n",
    "- Vehicle\n",
    "  - Vehicle Make `str`\n",
    "  - Vehicle Model `str`\n",
    "  - Vehicle Year `int`\n",
    "  - Vehicle Type `list` (array - using split)"
   ]
  },
  {
   "cell_type": "code",
   "execution_count": 27,
   "metadata": {},
   "outputs": [],
   "source": [
    "def from_csv(csvfile):\n",
    "    customer_data = []\n",
    "\n",
    "    with open(csvfile, encoding='utf-8') as f:\n",
    "        csv_reader = csv.DictReader(f)\n",
    "        make_int = lambda x: 0 if x == 'N/A' or x == '' else int(x)\n",
    "        for row in csv_reader:\n",
    "            get_month = lambda x: int(row[x].split('/')[0])\n",
    "            get_year = lambda x: int(row[x].split('/')[1])\n",
    "            customer_details = {\n",
    "                'name': {\n",
    "                    'first': row['First Name'],\n",
    "                    'last': row['Last Name']\n",
    "                },\n",
    "                'age': make_int(row['Age (Years)']),\n",
    "                'sex': row['Sex'],\n",
    "                'marital_status': row['Marital Status'],\n",
    "                'dependants': make_int(row['Dependants']),\n",
    "                'address': {\n",
    "                    'street': row['Address Street'],\n",
    "                    'city': row['Address City'],\n",
    "                    'postcode': row['Address Postcode']\n",
    "                },\n",
    "                'credit_card': {\n",
    "                    'start_date': {\n",
    "                        'month': get_month('Credit Card Start Date'),\n",
    "                        'year': get_year('Credit Card Start Date')\n",
    "                        },\n",
    "                    'end_date': {\n",
    "                        'month': get_month('Credit Card Expiry Date'),\n",
    "                        'year': get_year('Credit Card Expiry Date')\n",
    "                        },\n",
    "                    'number': int(row['Credit Card Number']),\n",
    "                    'cvv': int(row['Credit Card CVV']),\n",
    "                    'iban': row['Bank IBAN']\n",
    "                },\n",
    "                'employment': {\n",
    "                    'retired': bool(row['Retired']),\n",
    "                    'yearly_pension': make_int(row['Yearly Pension (£)']),\n",
    "                    'employer': row['Employer Company'],\n",
    "                    'yearly_salary': make_int(row['Yearly Salary (£)']),\n",
    "                    'commute_distance': float(row[\n",
    "                        'Distance Commuted to Work (miles)'])\n",
    "                },\n",
    "                'vehicle':{\n",
    "                    'type': [item.strip() for item in row['Vehicle Type'].split(',')],\n",
    "                    'year': make_int(row['Vehicle Year']),\n",
    "                    'make': row['Vehicle Make'],\n",
    "                    'model': row['Vehicle Model']\n",
    "                }\n",
    "            }\n",
    "            customer_data.append(customer_details)\n",
    "    return customer_data"
   ]
  },
  {
   "cell_type": "code",
   "execution_count": 28,
   "metadata": {},
   "outputs": [],
   "source": [
    "with open('output/processed.json', mode='w', encoding='utf-8') as f:\n",
    "    f.write(json.dumps(from_csv(CUSTOMERS_CSV), indent=2))"
   ]
  },
  {
   "cell_type": "code",
   "execution_count": null,
   "metadata": {},
   "outputs": [],
   "source": []
  }
 ],
 "metadata": {
  "interpreter": {
   "hash": "bedc54e19d6434b2bea7d6b79cc8c851433be0476d4e2138811deb6ec2d9ae40"
  },
  "kernelspec": {
   "display_name": "Python 3.10.0 64-bit ('.venve': venv)",
   "language": "python",
   "name": "python3"
  },
  "language_info": {
   "codemirror_mode": {
    "name": "ipython",
    "version": 3
   },
   "file_extension": ".py",
   "mimetype": "text/x-python",
   "name": "python",
   "nbconvert_exporter": "python",
   "pygments_lexer": "ipython3",
   "version": "3.10.0"
  },
  "orig_nbformat": 4
 },
 "nbformat": 4,
 "nbformat_minor": 2
}
